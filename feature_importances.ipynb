{
 "cells": [
  {
   "cell_type": "code",
   "execution_count": 1,
   "id": "5729fe80-5001-47a0-b293-890ccda42092",
   "metadata": {
    "execution": {
     "iopub.execute_input": "2024-12-18T19:54:10.809495Z",
     "iopub.status.busy": "2024-12-18T19:54:10.809131Z",
     "iopub.status.idle": "2024-12-18T19:54:11.554151Z",
     "shell.execute_reply": "2024-12-18T19:54:11.553824Z"
    },
    "papermill": {
     "duration": 0.750383,
     "end_time": "2024-12-18T19:54:11.555134",
     "exception": false,
     "start_time": "2024-12-18T19:54:10.804751",
     "status": "completed"
    },
    "tags": []
   },
   "outputs": [],
   "source": [
    "import numpy as np\n",
    "import pandas as pd\n",
    "\n",
    "from sklearn.linear_model import LogisticRegression\n",
    "from sklearn.ensemble import RandomForestClassifier\n",
    "from sklearn.model_selection import train_test_split\n",
    "from sklearn.preprocessing import StandardScaler, LabelEncoder, MaxAbsScaler\n",
    "from sklearn.metrics import accuracy_score\n",
    "from catboost import CatBoostClassifier\n",
    "\n",
    "from sklearn.utils.extmath import softmax"
   ]
  },
  {
   "cell_type": "code",
   "execution_count": 2,
   "id": "5b913533-2cfa-49a1-a5da-b583ac86de1b",
   "metadata": {
    "execution": {
     "iopub.execute_input": "2024-12-18T19:54:11.557422Z",
     "iopub.status.busy": "2024-12-18T19:54:11.557187Z",
     "iopub.status.idle": "2024-12-18T19:54:11.565991Z",
     "shell.execute_reply": "2024-12-18T19:54:11.565663Z"
    },
    "papermill": {
     "duration": 0.010765,
     "end_time": "2024-12-18T19:54:11.566901",
     "exception": false,
     "start_time": "2024-12-18T19:54:11.556136",
     "status": "completed"
    },
    "tags": []
   },
   "outputs": [],
   "source": [
    "train = pd.read_csv(\"train_new.csv\")\n",
    "test = pd.read_csv(\"test_new.csv\")"
   ]
  },
  {
   "cell_type": "code",
   "execution_count": 3,
   "id": "49dc7dff-98b1-4069-b029-69b60b5105f8",
   "metadata": {
    "execution": {
     "iopub.execute_input": "2024-12-18T19:54:11.569040Z",
     "iopub.status.busy": "2024-12-18T19:54:11.568936Z",
     "iopub.status.idle": "2024-12-18T19:54:11.572263Z",
     "shell.execute_reply": "2024-12-18T19:54:11.572033Z"
    },
    "papermill": {
     "duration": 0.005213,
     "end_time": "2024-12-18T19:54:11.573125",
     "exception": false,
     "start_time": "2024-12-18T19:54:11.567912",
     "status": "completed"
    },
    "tags": []
   },
   "outputs": [],
   "source": [
    "X = train.drop('Transported', axis=1)\n",
    "y = train[['Transported']]\n",
    "X_train, X_test, y_train, y_test = train_test_split(X, y, test_size = 0.25, random_state = 42)"
   ]
  },
  {
   "cell_type": "code",
   "execution_count": 4,
   "id": "57560868-09a7-4f99-9ee8-953c1f975d78",
   "metadata": {
    "execution": {
     "iopub.execute_input": "2024-12-18T19:54:11.574949Z",
     "iopub.status.busy": "2024-12-18T19:54:11.574853Z",
     "iopub.status.idle": "2024-12-18T19:54:11.576969Z",
     "shell.execute_reply": "2024-12-18T19:54:11.576760Z"
    },
    "papermill": {
     "duration": 0.00381,
     "end_time": "2024-12-18T19:54:11.577697",
     "exception": false,
     "start_time": "2024-12-18T19:54:11.573887",
     "status": "completed"
    },
    "tags": []
   },
   "outputs": [
    {
     "name": "stdout",
     "output_type": "stream",
     "text": [
      "Unnamed: 0 int64\n",
      "HomePlanet int64\n",
      "CryoSleep int64\n",
      "Destination int64\n",
      "Age int64\n",
      "Expenditure float64\n",
      "No_spending int64\n",
      "Group int64\n",
      "Group_size int64\n",
      "Solo int64\n",
      "Cabin_deck int64\n",
      "Cabin_side int64\n",
      "Family_size float64\n"
     ]
    }
   ],
   "source": [
    "for col in X_train.columns:\n",
    "    print(col, X_train[col].dtype)"
   ]
  },
  {
   "cell_type": "code",
   "execution_count": 5,
   "id": "0de449ef-43cf-4f0e-ac0c-648ea11dadcf",
   "metadata": {
    "execution": {
     "iopub.execute_input": "2024-12-18T19:54:11.579452Z",
     "iopub.status.busy": "2024-12-18T19:54:11.579365Z",
     "iopub.status.idle": "2024-12-18T19:54:11.629939Z",
     "shell.execute_reply": "2024-12-18T19:54:11.627960Z"
    },
    "papermill": {
     "duration": 0.053986,
     "end_time": "2024-12-18T19:54:11.632380",
     "exception": false,
     "start_time": "2024-12-18T19:54:11.578394",
     "status": "completed"
    },
    "tags": []
   },
   "outputs": [
    {
     "name": "stderr",
     "output_type": "stream",
     "text": [
      "/Users/nikitaosovskiy/code/gosling/env/lib/python3.11/site-packages/sklearn/utils/validation.py:1408: DataConversionWarning: A column-vector y was passed when a 1d array was expected. Please change the shape of y to (n_samples, ), for example using ravel().\n",
      "  y = column_or_1d(y, warn=True)\n",
      "/Users/nikitaosovskiy/code/gosling/env/lib/python3.11/site-packages/sklearn/linear_model/_logistic.py:465: ConvergenceWarning: lbfgs failed to converge (status=1):\n",
      "STOP: TOTAL NO. of ITERATIONS REACHED LIMIT.\n",
      "\n",
      "Increase the number of iterations (max_iter) or scale the data as shown in:\n",
      "    https://scikit-learn.org/stable/modules/preprocessing.html\n",
      "Please also refer to the documentation for alternative solver options:\n",
      "    https://scikit-learn.org/stable/modules/linear_model.html#logistic-regression\n",
      "  n_iter_i = _check_optimize_result(\n"
     ]
    }
   ],
   "source": [
    "clf_lr = LogisticRegression(random_state = 0)\n",
    "clf_lr.fit(X_train, y_train)\n",
    "coef_lr = clf_lr.coef_[0]\n",
    "\n",
    "acc_train_lr = accuracy_score(y_true=y_train, y_pred=clf_lr.predict(X_train))\n",
    "acc_test_lr = accuracy_score(y_true=y_test, y_pred=clf_lr.predict(X_test))\n",
    "label_lr = f'Importance (LR abs), acc_train = {acc_train_lr:.2%}, acc_test = {acc_test_lr:.2%}'"
   ]
  },
  {
   "cell_type": "code",
   "execution_count": 6,
   "id": "73e020fc-5ce6-42e9-b8be-8e4a79932cd7",
   "metadata": {
    "execution": {
     "iopub.execute_input": "2024-12-18T19:54:11.638263Z",
     "iopub.status.busy": "2024-12-18T19:54:11.637670Z",
     "iopub.status.idle": "2024-12-18T19:54:13.940664Z",
     "shell.execute_reply": "2024-12-18T19:54:13.940398Z"
    },
    "papermill": {
     "duration": 2.307064,
     "end_time": "2024-12-18T19:54:13.941714",
     "exception": false,
     "start_time": "2024-12-18T19:54:11.634650",
     "status": "completed"
    },
    "tags": []
   },
   "outputs": [
    {
     "name": "stderr",
     "output_type": "stream",
     "text": [
      "/Users/nikitaosovskiy/code/gosling/env/lib/python3.11/site-packages/sklearn/utils/validation.py:1408: DataConversionWarning: A column-vector y was passed when a 1d array was expected. Please change the shape of y to (n_samples, ), for example using ravel().\n",
      "  y = column_or_1d(y, warn=True)\n",
      "/Users/nikitaosovskiy/code/gosling/env/lib/python3.11/site-packages/sklearn/linear_model/_logistic.py:465: ConvergenceWarning: lbfgs failed to converge (status=1):\n",
      "STOP: TOTAL NO. of ITERATIONS REACHED LIMIT.\n",
      "\n",
      "Increase the number of iterations (max_iter) or scale the data as shown in:\n",
      "    https://scikit-learn.org/stable/modules/preprocessing.html\n",
      "Please also refer to the documentation for alternative solver options:\n",
      "    https://scikit-learn.org/stable/modules/linear_model.html#logistic-regression\n",
      "  n_iter_i = _check_optimize_result(\n",
      "/Users/nikitaosovskiy/code/gosling/env/lib/python3.11/site-packages/sklearn/base.py:1389: DataConversionWarning: A column-vector y was passed when a 1d array was expected. Please change the shape of y to (n_samples,), for example using ravel().\n",
      "  return fit_method(estimator, *args, **kwargs)\n"
     ]
    }
   ],
   "source": [
    "clf_lr = LogisticRegression(random_state = 0)\n",
    "clf_lr.fit(X_train, y_train)\n",
    "coef_lr = clf_lr.coef_[0]\n",
    "\n",
    "acc_train_lr = accuracy_score(y_true=y_train, y_pred=clf_lr.predict(X_train))\n",
    "acc_test_lr = accuracy_score(y_true=y_test, y_pred=clf_lr.predict(X_test))\n",
    "label_lr = f'Importance (LR abs), acc_train = {acc_train_lr:.2%}, acc_test = {acc_test_lr:.2%}'\n",
    "\n",
    "# Random Forest\n",
    "clf_rf = RandomForestClassifier(random_state = 0)\n",
    "clf_rf.fit(X_train, y_train)\n",
    "coef_rf = clf_rf.feature_importances_\n",
    "\n",
    "acc_train_rf = accuracy_score(y_true=y_train, y_pred=clf_rf.predict(X_train))\n",
    "acc_test_rf = accuracy_score(y_true=y_test, y_pred=clf_rf.predict(X_test))\n",
    "label_rf = f'Importance (LR abs), acc_train = {acc_train_rf:.2%}, acc_test = {acc_test_rf:.2%}'\n",
    "# CatBoost\n",
    "clf_cat = CatBoostClassifier(random_state = 0)\n",
    "clf_cat.fit(X_train, y_train, silent = True)\n",
    "coef_cat = clf_cat.feature_importances_\n",
    "\n",
    "acc_train_cat = accuracy_score(y_true=y_train, y_pred=clf_cat.predict(X_train).astype('bool'))\n",
    "acc_test_cat = accuracy_score(y_true=y_test, y_pred=clf_cat.predict(X_test).astype('bool'))\n",
    "label_cat = f'Importance (LR abs), acc_train = {acc_train_cat:.2%}, acc_test = {acc_test_cat:.2%}'\n",
    "\n",
    "\n",
    "feauture_importances = pd.DataFrame({\n",
    "    'Feature': X.columns,\n",
    "    'LR': np.abs(coef_lr),\n",
    "    'RF': coef_rf,\n",
    "    'CatBoost': coef_cat\n",
    "})\n",
    "\n",
    "feauture_importances = feauture_importances.sort_values(by = 'CatBoost', ascending=False)"
   ]
  }
 ],
 "metadata": {
  "kernelspec": {
   "display_name": "Python 3 (ipykernel)",
   "language": "python",
   "name": "python3"
  },
  "language_info": {
   "codemirror_mode": {
    "name": "ipython",
    "version": 3
   },
   "file_extension": ".py",
   "mimetype": "text/x-python",
   "name": "python",
   "nbconvert_exporter": "python",
   "pygments_lexer": "ipython3",
   "version": "3.11.10"
  },
  "papermill": {
   "default_parameters": {},
   "duration": 3.991265,
   "end_time": "2024-12-18T19:54:14.158875",
   "environment_variables": {},
   "exception": null,
   "input_path": "/Users/nikitaosovskiy/code/gosling/feature_importances.ipynb",
   "output_path": "/Users/nikitaosovskiy/code/gosling/feature_importances.ipynb",
   "parameters": {},
   "start_time": "2024-12-18T19:54:10.167610",
   "version": "2.6.0"
  }
 },
 "nbformat": 4,
 "nbformat_minor": 5
}